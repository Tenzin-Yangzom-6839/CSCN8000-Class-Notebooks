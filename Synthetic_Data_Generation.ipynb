{
  "nbformat": 4,
  "nbformat_minor": 0,
  "metadata": {
    "colab": {
      "provenance": [],
      "authorship_tag": "ABX9TyPaTqrG/DAVP54Dy87oh9VJ",
      "include_colab_link": true
    },
    "kernelspec": {
      "name": "python3",
      "display_name": "Python 3"
    },
    "language_info": {
      "name": "python"
    }
  },
  "cells": [
    {
      "cell_type": "markdown",
      "metadata": {
        "id": "view-in-github",
        "colab_type": "text"
      },
      "source": [
        "<a href=\"https://colab.research.google.com/github/Tenzin-Yangzom-6839/CSCN8000-Class-Notebooks/blob/main/Synthetic_Data_Generation.ipynb\" target=\"_parent\"><img src=\"https://colab.research.google.com/assets/colab-badge.svg\" alt=\"Open In Colab\"/></a>"
      ]
    },
    {
      "cell_type": "markdown",
      "source": [
        "**BACKLOG** :\n",
        "\n",
        "\n",
        "# Strategic decision\n",
        "### **AI for Volunteering matching. ( a recommendation system to match the perfect profile of the volunteers )**\n",
        "\n",
        "\n"
      ],
      "metadata": {
        "id": "-M5VrVeDByay"
      }
    },
    {
      "cell_type": "markdown",
      "source": [
        "1. CREATING SYNTHETIC USER-PROFILES AND SCRAPING VOLUNTEER JOB POSTINGS"
      ],
      "metadata": {
        "id": "jIScR6cmCOxr"
      }
    },
    {
      "cell_type": "markdown",
      "source": [
        "Data Collection and Preparation:\n",
        "\n",
        "A dataset containing PDFs of live resumes from a job portal was made available via a web link.\n",
        "I extracted information from these PDF resumes and meticulously organized the data into a structured CSV file.\n",
        "\n",
        "Job Descriptions:\n",
        "\n",
        "To complete the puzzle, I collected job descriptions from various companies, sourced from Kaggle and provided in CSV format through a data link."
      ],
      "metadata": {
        "id": "e5hdpUgRH91m"
      }
    },
    {
      "cell_type": "markdown",
      "source": [
        "Synthetic Data generated for the user profile (candidate)\n",
        "\n",
        "Why Synthetic ?\n",
        "- Privacy\n",
        "- Product Testing\n",
        "- Training ML Model"
      ],
      "metadata": {
        "id": "Yc63iIjVgqP5"
      }
    },
    {
      "cell_type": "code",
      "source": [
        "!git clone https://github.com/gretelai/gdpr-helpers.git"
      ],
      "metadata": {
        "colab": {
          "base_uri": "https://localhost:8080/"
        },
        "id": "E9On6xrInEZh",
        "outputId": "a7f67cc6-8d69-4ae5-80af-25b8276ed4b0"
      },
      "execution_count": 20,
      "outputs": [
        {
          "output_type": "stream",
          "name": "stdout",
          "text": [
            "Cloning into 'gdpr-helpers'...\n",
            "remote: Enumerating objects: 293, done.\u001b[K\n",
            "remote: Counting objects: 100% (293/293), done.\u001b[K\n",
            "remote: Compressing objects: 100% (156/156), done.\u001b[K\n",
            "remote: Total 293 (delta 149), reused 263 (delta 126), pack-reused 0\u001b[K\n",
            "Receiving objects: 100% (293/293), 1.23 MiB | 13.66 MiB/s, done.\n",
            "Resolving deltas: 100% (149/149), done.\n"
          ]
        }
      ]
    },
    {
      "cell_type": "markdown",
      "source": [
        "Installing all the requirements"
      ],
      "metadata": {
        "id": "p65JwBYaDaL6"
      }
    },
    {
      "cell_type": "code",
      "source": [
        "!cd gdpr-helpers; pip install -Uqq ."
      ],
      "metadata": {
        "colab": {
          "base_uri": "https://localhost:8080/"
        },
        "id": "5WeGdKZBnHHP",
        "outputId": "a7098cef-af23-44eb-aa18-3290513ccf9a"
      },
      "execution_count": 21,
      "outputs": [
        {
          "output_type": "stream",
          "name": "stdout",
          "text": [
            "  Preparing metadata (setup.py) ... \u001b[?25l\u001b[?25hdone\n",
            "  Building wheel for gdpr-helpers (setup.py) ... \u001b[?25l\u001b[?25hdone\n"
          ]
        }
      ]
    },
    {
      "cell_type": "code",
      "source": [
        "import os\n",
        "if not os.getcwd().endswith('gdpr-helpers'):  # doing validation\n",
        "  os.chdir('gdpr-helpers')"
      ],
      "metadata": {
        "id": "FqhtLU1dnsWg"
      },
      "execution_count": 4,
      "outputs": []
    },
    {
      "cell_type": "code",
      "source": [
        "import glob\n",
        "from gdpr_helpers import Anonymizer"
      ],
      "metadata": {
        "id": "5aD4ws_oofHO"
      },
      "execution_count": 5,
      "outputs": []
    },
    {
      "cell_type": "markdown",
      "source": [
        "Taking what kind of data we will be exploring"
      ],
      "metadata": {
        "id": "Xz3croLMDyoo"
      }
    },
    {
      "cell_type": "code",
      "source": [
        "search_patterns = \"data/User.csv\""
      ],
      "metadata": {
        "id": "DatfmrCSoLp8"
      },
      "execution_count": 22,
      "outputs": []
    },
    {
      "cell_type": "markdown",
      "source": [
        "## Workflow setup on Gretel\n",
        "1. Classify : Setup a policy to find and label sensitive data such as PII, Credentials, etc\n",
        "2. Transform: Learns how to define the policy to label and then transform a data with RE, data shifting, etc\n",
        "3. Synthetics: Generate synthetic data"
      ],
      "metadata": {
        "id": "1dliQRLqo292"
      }
    },
    {
      "cell_type": "code",
      "source": [
        "am = Anonymizer(\n",
        "    project_name = \"Volunteer-Matching\",\n",
        "    run_mode = \"cloud\",\n",
        "    transforms_config = \"src/config/transforms_config.yaml\",\n",
        "    synthetics_config = \"src/config/synthetics_config.yaml\",\n",
        "    endpoint = \"https://api.gretel.cloud\"\n",
        ")"
      ],
      "metadata": {
        "colab": {
          "base_uri": "https://localhost:8080/"
        },
        "id": "ePDhzzvvoa_c",
        "outputId": "965fa91b-4333-42d2-f646-c691c81188c9"
      },
      "execution_count": 23,
      "outputs": [
        {
          "output_type": "stream",
          "name": "stdout",
          "text": [
            "Found cached Gretel credentials\n",
            "Using endpoint https://api.gretel.cloud\n",
            "Logged in as tenzinyangzom2222@gmail.com ✅\n",
            "Follow along with model training at: https://console.gretel.ai/proj_2Wgevbk9GAzFZu7pbxBsthQyWzz\n"
          ]
        }
      ]
    },
    {
      "cell_type": "code",
      "source": [
        "for dataset_path in glob.glob(search_patterns):\n",
        "  am.anonymize(dataset_path=dataset_path)"
      ],
      "metadata": {
        "id": "iYkKcpcNpiu_",
        "colab": {
          "base_uri": "https://localhost:8080/"
        },
        "outputId": "bfc1acca-2e61-4646-c3ca-2b98c149d05b"
      },
      "execution_count": 24,
      "outputs": [
        {
          "output_type": "stream",
          "name": "stdout",
          "text": [
            "Anonymizing 'data/User.csv'\n",
            "Warning: Found NaN values in training data columns: ['MiddleName', 'Suffix', 'AddressLine2']. Replacing NaN values with ''.\n"
          ]
        },
        {
          "output_type": "stream",
          "name": "stderr",
          "text": [
            "Model creation complete!: : 13it [00:19,  1.49s/it]\n",
            "Transform - Job completed: : 22it [00:32,  1.49s/it]\n"
          ]
        },
        {
          "output_type": "stream",
          "name": "stdout",
          "text": [
            "\n",
            "\n",
            "Named Entity Recognition\n",
            "Processing time: 3.703 seconds\n",
            "Samples: 100 records\n",
            "Columns: 15 columns\n",
            "\n",
            "Entities detected\n",
            "| column_name       |   count |   approx_distinct_count |   missing_count | entities_detected    |\n",
            "|:------------------|--------:|------------------------:|----------------:|:---------------------|\n",
            "| FirstName         |     100 |                      93 |               0 | person_name          |\n",
            "| MiddleName        |      52 |                      15 |              48 |                      |\n",
            "| LastName          |     100 |                      84 |               0 | person_name          |\n",
            "| Suffix            |       0 |                       0 |             100 |                      |\n",
            "| AddressLine1      |     100 |                     100 |               0 | location             |\n",
            "| AddressLine2      |       2 |                       2 |              98 | location             |\n",
            "| City              |     100 |                      61 |               0 | location             |\n",
            "| StateProvinceName |     100 |                       9 |               0 | location             |\n",
            "| CountryRegionName |     100 |                       3 |               0 | location             |\n",
            "| PostalCode        |     100 |                      60 |               0 |                      |\n",
            "| PhoneNumber       |     100 |                      79 |               0 | phone_number         |\n",
            "| BirthDate         |     100 |                     100 |               0 | datetime, birth_date |\n",
            "| Education         |     100 |                       5 |               0 |                      |\n",
            "| Occupation        |     100 |                       4 |               0 |                      |\n",
            "| Gender            |     100 |                       2 |               0 | gender               |\n",
            "\n",
            "\n",
            "Transforms finished.\n",
            "Processing time: 16.778 seconds\n",
            "Record count: 16519\n",
            "\n",
            "Columns transformed\n",
            "| field_name        | transform_type   |   transformed_count |\n",
            "|:------------------|:-----------------|--------------------:|\n",
            "| City              | passthrough      |               16519 |\n",
            "| LastName          | fake             |               16519 |\n",
            "| MiddleName        | fake             |                9534 |\n",
            "| FirstName         | fake             |               16519 |\n",
            "| AddressLine1      | fake             |               16519 |\n",
            "| BirthDate         | dateshift        |               16519 |\n",
            "| PhoneNumber       | fake             |               16519 |\n",
            "| StateProvinceName | hash             |               16519 |\n",
            "| CountryRegionName | hash             |               16519 |\n",
            "| AddressLine2      | fake             |                 276 |\n",
            "\n",
            "\n"
          ]
        },
        {
          "output_type": "stream",
          "name": "stderr",
          "text": [
            "Actgan - Job completed: : 200it [05:37,  1.69s/it, num_records=16519]\n"
          ]
        },
        {
          "output_type": "stream",
          "name": "stdout",
          "text": [
            "dict_keys(['left_rows', 'left_cols', 'right_rows', 'right_cols', 'fields', 'left_correlation', 'right_correlation', 'correlation_difference', 'memorized_lines', 'mean_absolute_error', 'average_divergence', 'left_pca', 'right_pca', 'synthetic_data_quality_score', 'field_correlation_stability', 'principal_component_stability', 'field_distribution_stability', 'privacy_protection_level', 'model_id', 'project_name', 'model_name', 'model_type', 'fatal_error', 'summary', 'total_time_seconds', 'total_billed_seconds', 'job_status', 'job_type'])\n",
            "\n",
            "\n",
            "Synthesis finished.\n",
            "Lines memorized: 0\n",
            "\n",
            "Model training time: 321.102 seconds\n",
            "\n",
            "Job status: completed\n",
            "\n",
            "Job type: actgan\n",
            "\n",
            "Privacy report\n",
            "|                        | value    |\n",
            "|:-----------------------|:---------|\n",
            "| outlier_filter         | Medium   |\n",
            "| similarity_filter      | Medium   |\n",
            "| overfitting_protection | Disabled |\n",
            "| differential_privacy   | Disabled |\n",
            "\n",
            "Accuracy report\n",
            "| field                         |   value |\n",
            "|:------------------------------|--------:|\n",
            "| synthetic_data_quality_score  |      75 |\n",
            "| field_correlation_stability   |      66 |\n",
            "| principal_component_stability |      78 |\n",
            "| field_distribution_stability  |      83 |\n",
            "\n",
            "\n",
            "dict_keys(['left_rows', 'left_cols', 'right_rows', 'right_cols', 'fields', 'left_correlation', 'right_correlation', 'correlation_difference', 'memorized_lines', 'mean_absolute_error', 'average_divergence', 'left_pca', 'right_pca', 'synthetic_data_quality_score', 'field_correlation_stability', 'principal_component_stability', 'field_distribution_stability', 'privacy_protection_level', 'model_id', 'project_name', 'model_name', 'model_type', 'fatal_error', 'summary', 'total_time_seconds', 'total_billed_seconds', 'job_status', 'job_type'])\n",
            "Anonymization complete\n",
            " -- Synthetic data stored to: artifacts/User-synthetic_data.csv\n",
            " -- Anonymization report stored to: artifacts/User-anonymization_report.html\n"
          ]
        }
      ]
    },
    {
      "cell_type": "markdown",
      "source": [
        "![image.png](data:image/png;base64,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)"
      ],
      "metadata": {
        "id": "TLpGSYwxfaI3"
      }
    },
    {
      "cell_type": "code",
      "source": [
        "import pandas as pd"
      ],
      "metadata": {
        "id": "OyHAU-6ChTfZ"
      },
      "execution_count": 25,
      "outputs": []
    },
    {
      "cell_type": "code",
      "source": [
        "user_data = pd.read_csv(\"artifacts/User-synthetic_data.csv\")\n",
        "user_data.head()"
      ],
      "metadata": {
        "colab": {
          "base_uri": "https://localhost:8080/",
          "height": 365
        },
        "id": "vnAKl8dbCLSa",
        "outputId": "b8c94726-86c9-4998-dd5d-2f62b26e107c"
      },
      "execution_count": 27,
      "outputs": [
        {
          "output_type": "execute_result",
          "data": {
            "text/plain": [
              "  FirstName MiddleName   LastName Suffix                     AddressLine1  \\\n",
              "0   Chelsey       Joel      Adams    NaN      373 Williams Grove Apt. 994   \n",
              "1    Kelsey    Anthony   Figueroa    NaN     299 Lindsey Street Suite 426   \n",
              "2    Sandra    Crystal   Williams    NaN  1601 Barajas Junctions Apt. 137   \n",
              "3    Andrea     Joshua   Anderson    NaN                  527 Diaz Street   \n",
              "4    Miguel    Deborah  Henderson    NaN                   0753 Reed Mall   \n",
              "\n",
              "       AddressLine2          City StateProvinceName CountryRegionName  \\\n",
              "0  5717 Aaron Ports       Ballard          cb4b0d4f          ad185a6f   \n",
              "1  5717 Aaron Ports       Oakland          cb4b0d4f          854372dc   \n",
              "2  5717 Aaron Ports     Bremerton          ba643b7a          854372dc   \n",
              "3  5717 Aaron Ports  Lavender Bay          6c57e798          854372dc   \n",
              "4  5717 Aaron Ports    Cheltenham          35f4a147          d64eafd6   \n",
              "\n",
              "  PostalCode            PhoneNumber   BirthDate        Education  \\\n",
              "0      94015       768.922.3802x547  1963-06-30        Bachelors   \n",
              "1      92118          (870)065-7644  1949-08-28        Bachelors   \n",
              "2      98312       001-506-943-4252  1947-10-31      High School   \n",
              "3       2500  +1-637-047-5966x19155  1969-06-08  Partial College   \n",
              "4      75005    +1-782-046-3289x426  1948-05-05        Bachelors   \n",
              "\n",
              "     Occupation Gender  \n",
              "0  Professional      F  \n",
              "1    Management      M  \n",
              "2  Professional      M  \n",
              "3    Management      M  \n",
              "4  Professional      M  "
            ],
            "text/html": [
              "\n",
              "  <div id=\"df-8b589347-f93f-447d-97a9-0a1f57585b8a\" class=\"colab-df-container\">\n",
              "    <div>\n",
              "<style scoped>\n",
              "    .dataframe tbody tr th:only-of-type {\n",
              "        vertical-align: middle;\n",
              "    }\n",
              "\n",
              "    .dataframe tbody tr th {\n",
              "        vertical-align: top;\n",
              "    }\n",
              "\n",
              "    .dataframe thead th {\n",
              "        text-align: right;\n",
              "    }\n",
              "</style>\n",
              "<table border=\"1\" class=\"dataframe\">\n",
              "  <thead>\n",
              "    <tr style=\"text-align: right;\">\n",
              "      <th></th>\n",
              "      <th>FirstName</th>\n",
              "      <th>MiddleName</th>\n",
              "      <th>LastName</th>\n",
              "      <th>Suffix</th>\n",
              "      <th>AddressLine1</th>\n",
              "      <th>AddressLine2</th>\n",
              "      <th>City</th>\n",
              "      <th>StateProvinceName</th>\n",
              "      <th>CountryRegionName</th>\n",
              "      <th>PostalCode</th>\n",
              "      <th>PhoneNumber</th>\n",
              "      <th>BirthDate</th>\n",
              "      <th>Education</th>\n",
              "      <th>Occupation</th>\n",
              "      <th>Gender</th>\n",
              "    </tr>\n",
              "  </thead>\n",
              "  <tbody>\n",
              "    <tr>\n",
              "      <th>0</th>\n",
              "      <td>Chelsey</td>\n",
              "      <td>Joel</td>\n",
              "      <td>Adams</td>\n",
              "      <td>NaN</td>\n",
              "      <td>373 Williams Grove Apt. 994</td>\n",
              "      <td>5717 Aaron Ports</td>\n",
              "      <td>Ballard</td>\n",
              "      <td>cb4b0d4f</td>\n",
              "      <td>ad185a6f</td>\n",
              "      <td>94015</td>\n",
              "      <td>768.922.3802x547</td>\n",
              "      <td>1963-06-30</td>\n",
              "      <td>Bachelors</td>\n",
              "      <td>Professional</td>\n",
              "      <td>F</td>\n",
              "    </tr>\n",
              "    <tr>\n",
              "      <th>1</th>\n",
              "      <td>Kelsey</td>\n",
              "      <td>Anthony</td>\n",
              "      <td>Figueroa</td>\n",
              "      <td>NaN</td>\n",
              "      <td>299 Lindsey Street Suite 426</td>\n",
              "      <td>5717 Aaron Ports</td>\n",
              "      <td>Oakland</td>\n",
              "      <td>cb4b0d4f</td>\n",
              "      <td>854372dc</td>\n",
              "      <td>92118</td>\n",
              "      <td>(870)065-7644</td>\n",
              "      <td>1949-08-28</td>\n",
              "      <td>Bachelors</td>\n",
              "      <td>Management</td>\n",
              "      <td>M</td>\n",
              "    </tr>\n",
              "    <tr>\n",
              "      <th>2</th>\n",
              "      <td>Sandra</td>\n",
              "      <td>Crystal</td>\n",
              "      <td>Williams</td>\n",
              "      <td>NaN</td>\n",
              "      <td>1601 Barajas Junctions Apt. 137</td>\n",
              "      <td>5717 Aaron Ports</td>\n",
              "      <td>Bremerton</td>\n",
              "      <td>ba643b7a</td>\n",
              "      <td>854372dc</td>\n",
              "      <td>98312</td>\n",
              "      <td>001-506-943-4252</td>\n",
              "      <td>1947-10-31</td>\n",
              "      <td>High School</td>\n",
              "      <td>Professional</td>\n",
              "      <td>M</td>\n",
              "    </tr>\n",
              "    <tr>\n",
              "      <th>3</th>\n",
              "      <td>Andrea</td>\n",
              "      <td>Joshua</td>\n",
              "      <td>Anderson</td>\n",
              "      <td>NaN</td>\n",
              "      <td>527 Diaz Street</td>\n",
              "      <td>5717 Aaron Ports</td>\n",
              "      <td>Lavender Bay</td>\n",
              "      <td>6c57e798</td>\n",
              "      <td>854372dc</td>\n",
              "      <td>2500</td>\n",
              "      <td>+1-637-047-5966x19155</td>\n",
              "      <td>1969-06-08</td>\n",
              "      <td>Partial College</td>\n",
              "      <td>Management</td>\n",
              "      <td>M</td>\n",
              "    </tr>\n",
              "    <tr>\n",
              "      <th>4</th>\n",
              "      <td>Miguel</td>\n",
              "      <td>Deborah</td>\n",
              "      <td>Henderson</td>\n",
              "      <td>NaN</td>\n",
              "      <td>0753 Reed Mall</td>\n",
              "      <td>5717 Aaron Ports</td>\n",
              "      <td>Cheltenham</td>\n",
              "      <td>35f4a147</td>\n",
              "      <td>d64eafd6</td>\n",
              "      <td>75005</td>\n",
              "      <td>+1-782-046-3289x426</td>\n",
              "      <td>1948-05-05</td>\n",
              "      <td>Bachelors</td>\n",
              "      <td>Professional</td>\n",
              "      <td>M</td>\n",
              "    </tr>\n",
              "  </tbody>\n",
              "</table>\n",
              "</div>\n",
              "    <div class=\"colab-df-buttons\">\n",
              "\n",
              "  <div class=\"colab-df-container\">\n",
              "    <button class=\"colab-df-convert\" onclick=\"convertToInteractive('df-8b589347-f93f-447d-97a9-0a1f57585b8a')\"\n",
              "            title=\"Convert this dataframe to an interactive table.\"\n",
              "            style=\"display:none;\">\n",
              "\n",
              "  <svg xmlns=\"http://www.w3.org/2000/svg\" height=\"24px\" viewBox=\"0 -960 960 960\">\n",
              "    <path d=\"M120-120v-720h720v720H120Zm60-500h600v-160H180v160Zm220 220h160v-160H400v160Zm0 220h160v-160H400v160ZM180-400h160v-160H180v160Zm440 0h160v-160H620v160ZM180-180h160v-160H180v160Zm440 0h160v-160H620v160Z\"/>\n",
              "  </svg>\n",
              "    </button>\n",
              "\n",
              "  <style>\n",
              "    .colab-df-container {\n",
              "      display:flex;\n",
              "      gap: 12px;\n",
              "    }\n",
              "\n",
              "    .colab-df-convert {\n",
              "      background-color: #E8F0FE;\n",
              "      border: none;\n",
              "      border-radius: 50%;\n",
              "      cursor: pointer;\n",
              "      display: none;\n",
              "      fill: #1967D2;\n",
              "      height: 32px;\n",
              "      padding: 0 0 0 0;\n",
              "      width: 32px;\n",
              "    }\n",
              "\n",
              "    .colab-df-convert:hover {\n",
              "      background-color: #E2EBFA;\n",
              "      box-shadow: 0px 1px 2px rgba(60, 64, 67, 0.3), 0px 1px 3px 1px rgba(60, 64, 67, 0.15);\n",
              "      fill: #174EA6;\n",
              "    }\n",
              "\n",
              "    .colab-df-buttons div {\n",
              "      margin-bottom: 4px;\n",
              "    }\n",
              "\n",
              "    [theme=dark] .colab-df-convert {\n",
              "      background-color: #3B4455;\n",
              "      fill: #D2E3FC;\n",
              "    }\n",
              "\n",
              "    [theme=dark] .colab-df-convert:hover {\n",
              "      background-color: #434B5C;\n",
              "      box-shadow: 0px 1px 3px 1px rgba(0, 0, 0, 0.15);\n",
              "      filter: drop-shadow(0px 1px 2px rgba(0, 0, 0, 0.3));\n",
              "      fill: #FFFFFF;\n",
              "    }\n",
              "  </style>\n",
              "\n",
              "    <script>\n",
              "      const buttonEl =\n",
              "        document.querySelector('#df-8b589347-f93f-447d-97a9-0a1f57585b8a button.colab-df-convert');\n",
              "      buttonEl.style.display =\n",
              "        google.colab.kernel.accessAllowed ? 'block' : 'none';\n",
              "\n",
              "      async function convertToInteractive(key) {\n",
              "        const element = document.querySelector('#df-8b589347-f93f-447d-97a9-0a1f57585b8a');\n",
              "        const dataTable =\n",
              "          await google.colab.kernel.invokeFunction('convertToInteractive',\n",
              "                                                    [key], {});\n",
              "        if (!dataTable) return;\n",
              "\n",
              "        const docLinkHtml = 'Like what you see? Visit the ' +\n",
              "          '<a target=\"_blank\" href=https://colab.research.google.com/notebooks/data_table.ipynb>data table notebook</a>'\n",
              "          + ' to learn more about interactive tables.';\n",
              "        element.innerHTML = '';\n",
              "        dataTable['output_type'] = 'display_data';\n",
              "        await google.colab.output.renderOutput(dataTable, element);\n",
              "        const docLink = document.createElement('div');\n",
              "        docLink.innerHTML = docLinkHtml;\n",
              "        element.appendChild(docLink);\n",
              "      }\n",
              "    </script>\n",
              "  </div>\n",
              "\n",
              "\n",
              "<div id=\"df-72002659-4b26-4239-824a-0a464a54a392\">\n",
              "  <button class=\"colab-df-quickchart\" onclick=\"quickchart('df-72002659-4b26-4239-824a-0a464a54a392')\"\n",
              "            title=\"Suggest charts.\"\n",
              "            style=\"display:none;\">\n",
              "\n",
              "<svg xmlns=\"http://www.w3.org/2000/svg\" height=\"24px\"viewBox=\"0 0 24 24\"\n",
              "     width=\"24px\">\n",
              "    <g>\n",
              "        <path d=\"M19 3H5c-1.1 0-2 .9-2 2v14c0 1.1.9 2 2 2h14c1.1 0 2-.9 2-2V5c0-1.1-.9-2-2-2zM9 17H7v-7h2v7zm4 0h-2V7h2v10zm4 0h-2v-4h2v4z\"/>\n",
              "    </g>\n",
              "</svg>\n",
              "  </button>\n",
              "\n",
              "<style>\n",
              "  .colab-df-quickchart {\n",
              "      --bg-color: #E8F0FE;\n",
              "      --fill-color: #1967D2;\n",
              "      --hover-bg-color: #E2EBFA;\n",
              "      --hover-fill-color: #174EA6;\n",
              "      --disabled-fill-color: #AAA;\n",
              "      --disabled-bg-color: #DDD;\n",
              "  }\n",
              "\n",
              "  [theme=dark] .colab-df-quickchart {\n",
              "      --bg-color: #3B4455;\n",
              "      --fill-color: #D2E3FC;\n",
              "      --hover-bg-color: #434B5C;\n",
              "      --hover-fill-color: #FFFFFF;\n",
              "      --disabled-bg-color: #3B4455;\n",
              "      --disabled-fill-color: #666;\n",
              "  }\n",
              "\n",
              "  .colab-df-quickchart {\n",
              "    background-color: var(--bg-color);\n",
              "    border: none;\n",
              "    border-radius: 50%;\n",
              "    cursor: pointer;\n",
              "    display: none;\n",
              "    fill: var(--fill-color);\n",
              "    height: 32px;\n",
              "    padding: 0;\n",
              "    width: 32px;\n",
              "  }\n",
              "\n",
              "  .colab-df-quickchart:hover {\n",
              "    background-color: var(--hover-bg-color);\n",
              "    box-shadow: 0 1px 2px rgba(60, 64, 67, 0.3), 0 1px 3px 1px rgba(60, 64, 67, 0.15);\n",
              "    fill: var(--button-hover-fill-color);\n",
              "  }\n",
              "\n",
              "  .colab-df-quickchart-complete:disabled,\n",
              "  .colab-df-quickchart-complete:disabled:hover {\n",
              "    background-color: var(--disabled-bg-color);\n",
              "    fill: var(--disabled-fill-color);\n",
              "    box-shadow: none;\n",
              "  }\n",
              "\n",
              "  .colab-df-spinner {\n",
              "    border: 2px solid var(--fill-color);\n",
              "    border-color: transparent;\n",
              "    border-bottom-color: var(--fill-color);\n",
              "    animation:\n",
              "      spin 1s steps(1) infinite;\n",
              "  }\n",
              "\n",
              "  @keyframes spin {\n",
              "    0% {\n",
              "      border-color: transparent;\n",
              "      border-bottom-color: var(--fill-color);\n",
              "      border-left-color: var(--fill-color);\n",
              "    }\n",
              "    20% {\n",
              "      border-color: transparent;\n",
              "      border-left-color: var(--fill-color);\n",
              "      border-top-color: var(--fill-color);\n",
              "    }\n",
              "    30% {\n",
              "      border-color: transparent;\n",
              "      border-left-color: var(--fill-color);\n",
              "      border-top-color: var(--fill-color);\n",
              "      border-right-color: var(--fill-color);\n",
              "    }\n",
              "    40% {\n",
              "      border-color: transparent;\n",
              "      border-right-color: var(--fill-color);\n",
              "      border-top-color: var(--fill-color);\n",
              "    }\n",
              "    60% {\n",
              "      border-color: transparent;\n",
              "      border-right-color: var(--fill-color);\n",
              "    }\n",
              "    80% {\n",
              "      border-color: transparent;\n",
              "      border-right-color: var(--fill-color);\n",
              "      border-bottom-color: var(--fill-color);\n",
              "    }\n",
              "    90% {\n",
              "      border-color: transparent;\n",
              "      border-bottom-color: var(--fill-color);\n",
              "    }\n",
              "  }\n",
              "</style>\n",
              "\n",
              "  <script>\n",
              "    async function quickchart(key) {\n",
              "      const quickchartButtonEl =\n",
              "        document.querySelector('#' + key + ' button');\n",
              "      quickchartButtonEl.disabled = true;  // To prevent multiple clicks.\n",
              "      quickchartButtonEl.classList.add('colab-df-spinner');\n",
              "      try {\n",
              "        const charts = await google.colab.kernel.invokeFunction(\n",
              "            'suggestCharts', [key], {});\n",
              "      } catch (error) {\n",
              "        console.error('Error during call to suggestCharts:', error);\n",
              "      }\n",
              "      quickchartButtonEl.classList.remove('colab-df-spinner');\n",
              "      quickchartButtonEl.classList.add('colab-df-quickchart-complete');\n",
              "    }\n",
              "    (() => {\n",
              "      let quickchartButtonEl =\n",
              "        document.querySelector('#df-72002659-4b26-4239-824a-0a464a54a392 button');\n",
              "      quickchartButtonEl.style.display =\n",
              "        google.colab.kernel.accessAllowed ? 'block' : 'none';\n",
              "    })();\n",
              "  </script>\n",
              "</div>\n",
              "    </div>\n",
              "  </div>\n"
            ]
          },
          "metadata": {},
          "execution_count": 27
        }
      ]
    },
    {
      "cell_type": "markdown",
      "source": [
        "**Web Scraping on Volunteer Job Details**\n",
        "\n"
      ],
      "metadata": {
        "id": "vsu1luvWh-vg"
      }
    },
    {
      "cell_type": "markdown",
      "source": [
        "**Volunteer Waterloo Region**\n",
        "\n",
        "Volunteer Jobs From : https://volunteerwr.ca/Listings.php?ListType=Volunteer_Positions&MenuItemID=325"
      ],
      "metadata": {
        "id": "sFWmN354yXwJ"
      }
    },
    {
      "cell_type": "code",
      "source": [
        "import requests\n",
        "from bs4 import BeautifulSoup\n",
        "import csv"
      ],
      "metadata": {
        "id": "OWbvjwLxCLNB"
      },
      "execution_count": 76,
      "outputs": []
    },
    {
      "cell_type": "code",
      "source": [
        "url = 'https://volunteerwr.ca/Listings.php?ListType=Volunteer_Positions&MenuItemID=325'"
      ],
      "metadata": {
        "id": "9iX-_j5EwXYr"
      },
      "execution_count": 79,
      "outputs": []
    },
    {
      "cell_type": "code",
      "source": [
        "# Send an HTTP GET request to the URL\n",
        "response = requests.get(url)"
      ],
      "metadata": {
        "id": "mAniyos5pXqG"
      },
      "execution_count": 83,
      "outputs": []
    },
    {
      "cell_type": "code",
      "source": [
        "soup = BeautifulSoup(response.text, 'html')"
      ],
      "metadata": {
        "id": "iuKFQD1YpezX"
      },
      "execution_count": 84,
      "outputs": []
    },
    {
      "cell_type": "code",
      "source": [
        "# Check if the request was successful\n",
        "if response.status_code == 200:\n",
        "    soup = BeautifulSoup(response.text, 'html.parser')\n",
        "\n",
        "requests.get(url)"
      ],
      "metadata": {
        "colab": {
          "base_uri": "https://localhost:8080/"
        },
        "id": "fLJK6128rjIb",
        "outputId": "bc3361a1-2c70-4752-ab91-06fcde5c2447"
      },
      "execution_count": 87,
      "outputs": [
        {
          "output_type": "execute_result",
          "data": {
            "text/plain": [
              "<Response [200]>"
            ]
          },
          "metadata": {},
          "execution_count": 87
        }
      ]
    },
    {
      "cell_type": "code",
      "source": [
        "# Check if the request was successful\n",
        "if response.status_code == 200:\n",
        "    soup = BeautifulSoup(response.text, 'html.parser')\n",
        "\n",
        "    # Initialize a CSV file\n",
        "    with open(\"volunteer_jobs.csv\", \"w\", newline=\"\") as csv_file:\n",
        "        writer = csv.writer(csv_file)\n",
        "\n",
        "        # Write headers to the CSV file\n",
        "        writer.writerow([\"Job Title\", \"Description\"])\n",
        "\n",
        "        # Find and extract job postings\n",
        "        job_listings = soup.find_all(\"div\", class_=\"MainList\")\n",
        "        for job in job_listings:\n",
        "            title = job.find(\"div\", class_=\"cell1\").get_text()\n",
        "            description = job.find(\"div\", class_=\"cell2\").get_text()\n",
        "            writer.writerow([title, description])\n",
        "\n",
        "else:\n",
        "    print(\"Failed to retrieve the webpage\")\n",
        "\n"
      ],
      "metadata": {
        "id": "yEc8w7ccrNvQ"
      },
      "execution_count": 91,
      "outputs": []
    },
    {
      "cell_type": "code",
      "source": [
        "job = pd.read_csv('volunteer_jobs.csv')"
      ],
      "metadata": {
        "id": "KZIeCuzZrtqK"
      },
      "execution_count": 92,
      "outputs": []
    },
    {
      "cell_type": "code",
      "source": [
        "job.head()"
      ],
      "metadata": {
        "colab": {
          "base_uri": "https://localhost:8080/",
          "height": 206
        },
        "id": "n-Ac1w4bsLT5",
        "outputId": "fec2d3a6-2b79-4add-ea82-28758c466d03"
      },
      "execution_count": 93,
      "outputs": [
        {
          "output_type": "execute_result",
          "data": {
            "text/plain": [
              "                                    Job Title  \\\n",
              "0                     Fundraising Coordinator   \n",
              "1                  Manager of Client Services   \n",
              "2  One to one and small group activity leader   \n",
              "3                           Ladies Group Lead   \n",
              "4                          One on One Visitor   \n",
              "\n",
              "                                         Description  \n",
              "0        Program/Special Event: Community Engagement  \n",
              "1        Program/Special Event: Leadership Volunteer  \n",
              "2  Program/Special Event: Friendly visitor to a g...  \n",
              "3            Program/Special Event: Friendly Visitor  \n",
              "4            Program/Special Event: Friendly Visitor  "
            ],
            "text/html": [
              "\n",
              "  <div id=\"df-d2c17ea5-2670-41db-b9f8-55e1f2411428\" class=\"colab-df-container\">\n",
              "    <div>\n",
              "<style scoped>\n",
              "    .dataframe tbody tr th:only-of-type {\n",
              "        vertical-align: middle;\n",
              "    }\n",
              "\n",
              "    .dataframe tbody tr th {\n",
              "        vertical-align: top;\n",
              "    }\n",
              "\n",
              "    .dataframe thead th {\n",
              "        text-align: right;\n",
              "    }\n",
              "</style>\n",
              "<table border=\"1\" class=\"dataframe\">\n",
              "  <thead>\n",
              "    <tr style=\"text-align: right;\">\n",
              "      <th></th>\n",
              "      <th>Job Title</th>\n",
              "      <th>Description</th>\n",
              "    </tr>\n",
              "  </thead>\n",
              "  <tbody>\n",
              "    <tr>\n",
              "      <th>0</th>\n",
              "      <td>Fundraising Coordinator</td>\n",
              "      <td>Program/Special Event: Community Engagement</td>\n",
              "    </tr>\n",
              "    <tr>\n",
              "      <th>1</th>\n",
              "      <td>Manager of Client Services</td>\n",
              "      <td>Program/Special Event: Leadership Volunteer</td>\n",
              "    </tr>\n",
              "    <tr>\n",
              "      <th>2</th>\n",
              "      <td>One to one and small group activity leader</td>\n",
              "      <td>Program/Special Event: Friendly visitor to a g...</td>\n",
              "    </tr>\n",
              "    <tr>\n",
              "      <th>3</th>\n",
              "      <td>Ladies Group Lead</td>\n",
              "      <td>Program/Special Event: Friendly Visitor</td>\n",
              "    </tr>\n",
              "    <tr>\n",
              "      <th>4</th>\n",
              "      <td>One on One Visitor</td>\n",
              "      <td>Program/Special Event: Friendly Visitor</td>\n",
              "    </tr>\n",
              "  </tbody>\n",
              "</table>\n",
              "</div>\n",
              "    <div class=\"colab-df-buttons\">\n",
              "\n",
              "  <div class=\"colab-df-container\">\n",
              "    <button class=\"colab-df-convert\" onclick=\"convertToInteractive('df-d2c17ea5-2670-41db-b9f8-55e1f2411428')\"\n",
              "            title=\"Convert this dataframe to an interactive table.\"\n",
              "            style=\"display:none;\">\n",
              "\n",
              "  <svg xmlns=\"http://www.w3.org/2000/svg\" height=\"24px\" viewBox=\"0 -960 960 960\">\n",
              "    <path d=\"M120-120v-720h720v720H120Zm60-500h600v-160H180v160Zm220 220h160v-160H400v160Zm0 220h160v-160H400v160ZM180-400h160v-160H180v160Zm440 0h160v-160H620v160ZM180-180h160v-160H180v160Zm440 0h160v-160H620v160Z\"/>\n",
              "  </svg>\n",
              "    </button>\n",
              "\n",
              "  <style>\n",
              "    .colab-df-container {\n",
              "      display:flex;\n",
              "      gap: 12px;\n",
              "    }\n",
              "\n",
              "    .colab-df-convert {\n",
              "      background-color: #E8F0FE;\n",
              "      border: none;\n",
              "      border-radius: 50%;\n",
              "      cursor: pointer;\n",
              "      display: none;\n",
              "      fill: #1967D2;\n",
              "      height: 32px;\n",
              "      padding: 0 0 0 0;\n",
              "      width: 32px;\n",
              "    }\n",
              "\n",
              "    .colab-df-convert:hover {\n",
              "      background-color: #E2EBFA;\n",
              "      box-shadow: 0px 1px 2px rgba(60, 64, 67, 0.3), 0px 1px 3px 1px rgba(60, 64, 67, 0.15);\n",
              "      fill: #174EA6;\n",
              "    }\n",
              "\n",
              "    .colab-df-buttons div {\n",
              "      margin-bottom: 4px;\n",
              "    }\n",
              "\n",
              "    [theme=dark] .colab-df-convert {\n",
              "      background-color: #3B4455;\n",
              "      fill: #D2E3FC;\n",
              "    }\n",
              "\n",
              "    [theme=dark] .colab-df-convert:hover {\n",
              "      background-color: #434B5C;\n",
              "      box-shadow: 0px 1px 3px 1px rgba(0, 0, 0, 0.15);\n",
              "      filter: drop-shadow(0px 1px 2px rgba(0, 0, 0, 0.3));\n",
              "      fill: #FFFFFF;\n",
              "    }\n",
              "  </style>\n",
              "\n",
              "    <script>\n",
              "      const buttonEl =\n",
              "        document.querySelector('#df-d2c17ea5-2670-41db-b9f8-55e1f2411428 button.colab-df-convert');\n",
              "      buttonEl.style.display =\n",
              "        google.colab.kernel.accessAllowed ? 'block' : 'none';\n",
              "\n",
              "      async function convertToInteractive(key) {\n",
              "        const element = document.querySelector('#df-d2c17ea5-2670-41db-b9f8-55e1f2411428');\n",
              "        const dataTable =\n",
              "          await google.colab.kernel.invokeFunction('convertToInteractive',\n",
              "                                                    [key], {});\n",
              "        if (!dataTable) return;\n",
              "\n",
              "        const docLinkHtml = 'Like what you see? Visit the ' +\n",
              "          '<a target=\"_blank\" href=https://colab.research.google.com/notebooks/data_table.ipynb>data table notebook</a>'\n",
              "          + ' to learn more about interactive tables.';\n",
              "        element.innerHTML = '';\n",
              "        dataTable['output_type'] = 'display_data';\n",
              "        await google.colab.output.renderOutput(dataTable, element);\n",
              "        const docLink = document.createElement('div');\n",
              "        docLink.innerHTML = docLinkHtml;\n",
              "        element.appendChild(docLink);\n",
              "      }\n",
              "    </script>\n",
              "  </div>\n",
              "\n",
              "\n",
              "<div id=\"df-13b8ebee-6445-420c-a185-5f38fd0e55cd\">\n",
              "  <button class=\"colab-df-quickchart\" onclick=\"quickchart('df-13b8ebee-6445-420c-a185-5f38fd0e55cd')\"\n",
              "            title=\"Suggest charts.\"\n",
              "            style=\"display:none;\">\n",
              "\n",
              "<svg xmlns=\"http://www.w3.org/2000/svg\" height=\"24px\"viewBox=\"0 0 24 24\"\n",
              "     width=\"24px\">\n",
              "    <g>\n",
              "        <path d=\"M19 3H5c-1.1 0-2 .9-2 2v14c0 1.1.9 2 2 2h14c1.1 0 2-.9 2-2V5c0-1.1-.9-2-2-2zM9 17H7v-7h2v7zm4 0h-2V7h2v10zm4 0h-2v-4h2v4z\"/>\n",
              "    </g>\n",
              "</svg>\n",
              "  </button>\n",
              "\n",
              "<style>\n",
              "  .colab-df-quickchart {\n",
              "      --bg-color: #E8F0FE;\n",
              "      --fill-color: #1967D2;\n",
              "      --hover-bg-color: #E2EBFA;\n",
              "      --hover-fill-color: #174EA6;\n",
              "      --disabled-fill-color: #AAA;\n",
              "      --disabled-bg-color: #DDD;\n",
              "  }\n",
              "\n",
              "  [theme=dark] .colab-df-quickchart {\n",
              "      --bg-color: #3B4455;\n",
              "      --fill-color: #D2E3FC;\n",
              "      --hover-bg-color: #434B5C;\n",
              "      --hover-fill-color: #FFFFFF;\n",
              "      --disabled-bg-color: #3B4455;\n",
              "      --disabled-fill-color: #666;\n",
              "  }\n",
              "\n",
              "  .colab-df-quickchart {\n",
              "    background-color: var(--bg-color);\n",
              "    border: none;\n",
              "    border-radius: 50%;\n",
              "    cursor: pointer;\n",
              "    display: none;\n",
              "    fill: var(--fill-color);\n",
              "    height: 32px;\n",
              "    padding: 0;\n",
              "    width: 32px;\n",
              "  }\n",
              "\n",
              "  .colab-df-quickchart:hover {\n",
              "    background-color: var(--hover-bg-color);\n",
              "    box-shadow: 0 1px 2px rgba(60, 64, 67, 0.3), 0 1px 3px 1px rgba(60, 64, 67, 0.15);\n",
              "    fill: var(--button-hover-fill-color);\n",
              "  }\n",
              "\n",
              "  .colab-df-quickchart-complete:disabled,\n",
              "  .colab-df-quickchart-complete:disabled:hover {\n",
              "    background-color: var(--disabled-bg-color);\n",
              "    fill: var(--disabled-fill-color);\n",
              "    box-shadow: none;\n",
              "  }\n",
              "\n",
              "  .colab-df-spinner {\n",
              "    border: 2px solid var(--fill-color);\n",
              "    border-color: transparent;\n",
              "    border-bottom-color: var(--fill-color);\n",
              "    animation:\n",
              "      spin 1s steps(1) infinite;\n",
              "  }\n",
              "\n",
              "  @keyframes spin {\n",
              "    0% {\n",
              "      border-color: transparent;\n",
              "      border-bottom-color: var(--fill-color);\n",
              "      border-left-color: var(--fill-color);\n",
              "    }\n",
              "    20% {\n",
              "      border-color: transparent;\n",
              "      border-left-color: var(--fill-color);\n",
              "      border-top-color: var(--fill-color);\n",
              "    }\n",
              "    30% {\n",
              "      border-color: transparent;\n",
              "      border-left-color: var(--fill-color);\n",
              "      border-top-color: var(--fill-color);\n",
              "      border-right-color: var(--fill-color);\n",
              "    }\n",
              "    40% {\n",
              "      border-color: transparent;\n",
              "      border-right-color: var(--fill-color);\n",
              "      border-top-color: var(--fill-color);\n",
              "    }\n",
              "    60% {\n",
              "      border-color: transparent;\n",
              "      border-right-color: var(--fill-color);\n",
              "    }\n",
              "    80% {\n",
              "      border-color: transparent;\n",
              "      border-right-color: var(--fill-color);\n",
              "      border-bottom-color: var(--fill-color);\n",
              "    }\n",
              "    90% {\n",
              "      border-color: transparent;\n",
              "      border-bottom-color: var(--fill-color);\n",
              "    }\n",
              "  }\n",
              "</style>\n",
              "\n",
              "  <script>\n",
              "    async function quickchart(key) {\n",
              "      const quickchartButtonEl =\n",
              "        document.querySelector('#' + key + ' button');\n",
              "      quickchartButtonEl.disabled = true;  // To prevent multiple clicks.\n",
              "      quickchartButtonEl.classList.add('colab-df-spinner');\n",
              "      try {\n",
              "        const charts = await google.colab.kernel.invokeFunction(\n",
              "            'suggestCharts', [key], {});\n",
              "      } catch (error) {\n",
              "        console.error('Error during call to suggestCharts:', error);\n",
              "      }\n",
              "      quickchartButtonEl.classList.remove('colab-df-spinner');\n",
              "      quickchartButtonEl.classList.add('colab-df-quickchart-complete');\n",
              "    }\n",
              "    (() => {\n",
              "      let quickchartButtonEl =\n",
              "        document.querySelector('#df-13b8ebee-6445-420c-a185-5f38fd0e55cd button');\n",
              "      quickchartButtonEl.style.display =\n",
              "        google.colab.kernel.accessAllowed ? 'block' : 'none';\n",
              "    })();\n",
              "  </script>\n",
              "</div>\n",
              "    </div>\n",
              "  </div>\n"
            ]
          },
          "metadata": {},
          "execution_count": 93
        }
      ]
    },
    {
      "cell_type": "markdown",
      "source": [
        "2. EXTRACT INSIGHTS FROM JOB POSTING FOR RECOMMENDATION\n",
        "3. EXTRACT INSIGHTS FROM THE VOLUNTEER PROFILE FOR RECOMMENDATION\n",
        "4. RECOMMEND THE CANDIDATES TO JOB POSTINGS BASED ON THE INSIGHTS\n",
        "5. CREATE A GUI TO SHOW ALL CANDIDATE RECOMMENDED TO ALL JOBS"
      ],
      "metadata": {
        "id": "DHv_9YiDCLpy"
      }
    },
    {
      "cell_type": "code",
      "source": [],
      "metadata": {
        "id": "LIgQxEB0CMB0"
      },
      "execution_count": null,
      "outputs": []
    }
  ]
}